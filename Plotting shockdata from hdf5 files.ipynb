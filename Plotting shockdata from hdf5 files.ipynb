{
 "cells": [
  {
   "cell_type": "markdown",
   "metadata": {},
   "source": [
    "# <center> Plotting shockdata read from a .hdf5-file </center>  \n",
    "\n",
    "In this notebook is an example of how to plot the results from the rippled shock simulations. We start with reading the results from the hdf5-file and writing them to pandas dataframes for ease of use. Then we calculate some additional results for the plot and finally we plot the results.\n",
    "\n",
    "We start with importing needed libraries and defining a needed cutoffVelocity function."
   ]
  },
  {
   "cell_type": "code",
   "execution_count": 1,
   "metadata": {},
   "outputs": [],
   "source": [
    "import numpy as np\n",
    "import matplotlib.pyplot as plt\n",
    "import pandas as pd\n",
    "import h5py\n",
    "#%matplotlib inline"
   ]
  },
  {
   "cell_type": "code",
   "execution_count": 2,
   "metadata": {},
   "outputs": [],
   "source": [
    "def cutoffVelocity(v_0, u, r, r_mag, T, lam=1):\n",
    "    return (v_0 + 0.5*((u**2)/lam)*((r - 1)/r)*((r_mag**2)/(r+(r_mag**2)))*T)"
   ]
  },
  {
   "cell_type": "markdown",
   "metadata": {},
   "source": [
    "We start by opening the file. If the file is in the same directory as this jupyter notebook then just the name is needed. If you have the results in a different directory you need to specify the whole directory path.\n",
    "\n",
    "Listing the keys will show what simulations are saved to this file."
   ]
  },
  {
   "cell_type": "code",
   "execution_count": 3,
   "metadata": {
    "scrolled": false
   },
   "outputs": [
    {
     "data": {
      "text/plain": [
       "['1ex', '2ex']"
      ]
     },
     "execution_count": 3,
     "metadata": {},
     "output_type": "execute_result"
    }
   ],
   "source": [
    "#Open the file and see what groups it has\n",
    "file = h5py.File(\"exampletest.hdf5\", \"r\")\n",
    "list(file.keys())"
   ]
  },
  {
   "cell_type": "markdown",
   "metadata": {},
   "source": [
    "In this example I have run two simulations with different ripple chances, but otherwise the parameters are the same. As such we can open the first group and read all the parameters from there except for the ripple chance which we save for both groups seperately. I also print the keys inside the groups to see what savesteps the simulation has done."
   ]
  },
  {
   "cell_type": "code",
   "execution_count": 4,
   "metadata": {},
   "outputs": [
    {
     "name": "stdout",
     "output_type": "stream",
     "text": [
      "['meanfreepath', 'obliquity_mean', 'particles_total', 'r', 'ripple_amplitude', 'ripple_chance', 'ripple_velocity_x', 'ripple_velocity_y', 'ripple_wavelength', 'runtime', 'savesteps', 't_max', 'v_up']\n",
      "Group 1ex saves:  ['T=0', 'T=500']\n",
      "Group 2ex saves:  ['T=0', 'T=500']\n"
     ]
    }
   ],
   "source": [
    "group = file[\"1ex\"]\n",
    "\n",
    "print(list(group.attrs))\n",
    "\n",
    "mfp = group.attrs['meanfreepath']\n",
    "obliquity_mean = group.attrs['obliquity_mean']\n",
    "particles_total = group.attrs['particles_total']\n",
    "r = group.attrs['r']\n",
    "ripple_amplitude = group.attrs['ripple_amplitude']\n",
    "\n",
    "ripple_chance_1ex = group.attrs['ripple_chance']\n",
    "\n",
    "ripple_velocity_x = group.attrs['ripple_velocity_x']\n",
    "ripple_velocity_y = group.attrs['ripple_velocity_y']\n",
    "ripple_wavelength = group.attrs['ripple_wavelength']\n",
    "runtime = group.attrs['runtime']\n",
    "savesteps = group.attrs['savesteps']\n",
    "t_max = group.attrs['t_max']\n",
    "v_up = group.attrs['v_up']\n",
    "\n",
    "print(\"Group 1ex saves: \", list(group.keys()))\n",
    "\n",
    "group = file[\"2ex\"]\n",
    "\n",
    "ripple_chance_2ex = group.attrs['ripple_chance']\n",
    "\n",
    "print(\"Group 2ex saves: \", list(group.keys()))"
   ]
  },
  {
   "cell_type": "markdown",
   "metadata": {},
   "source": [
    "Next we open the groups seperately and read the results to pandas dataframes. Here using a notebook is handy since you can run this cell with the first group and then just change the group name and rerun the cell. As long as you remember to change the final dataframe name both of the results are saved to memory for future use."
   ]
  },
  {
   "cell_type": "code",
   "execution_count": 6,
   "metadata": {},
   "outputs": [
    {
     "name": "stdout",
     "output_type": "stream",
     "text": [
      "['T=0', 'T=500']\n"
     ]
    }
   ],
   "source": [
    "#Choose which group we open\n",
    "group = file[\"2ex\"]\n",
    "print(list(group.keys()))\n",
    "\n",
    "#Read the results from the .hdf5-file and write them to a pandas dataframe\n",
    "#choose what savestep you want to read\n",
    "dset_end = group[\"T=500\"]\n",
    "data_end = pd.DataFrame(dset_end[...], columns=[\"particle\", \"position\", \"velocity\", \"t_end\", \"mu\"])\n",
    "\n",
    "#Add the logarithm of the velocity to the dataframe\n",
    "velocity_log = np.log10(data_end[\"velocity\"])\n",
    "data_end[\"velocity_log\"] = velocity_log\n",
    "\n",
    "#remember to change the name of the final dataframe so you don't accidentally replace the previous \n",
    "#data_end1 = data_end\n",
    "data_end2 = data_end"
   ]
  },
  {
   "cell_type": "code",
   "execution_count": 7,
   "metadata": {},
   "outputs": [],
   "source": [
    "#Remember to close the file \n",
    "file.close()"
   ]
  },
  {
   "cell_type": "markdown",
   "metadata": {},
   "source": [
    "Next we calculate the cutoff velocity and the power law to be used in the plot."
   ]
  },
  {
   "cell_type": "code",
   "execution_count": 8,
   "metadata": {},
   "outputs": [],
   "source": [
    "#Tangent of the obliquity is needed in the magnetic compression calculation\n",
    "obtan = np.tan(obliquity_mean)\n",
    "\n",
    "#Calculate the new magnetic compression ratio\n",
    "r_mag = np.sqrt(1.0 + r*r*obtan*obtan) / np.sqrt(1.0 + obtan*obtan)\n",
    "\n",
    "#use the simulation parameters to calculate the cutoff velocity of the simulations\n",
    "v_c20 = cutoffVelocity(6.0, v_up, r, r_mag, t_max)\n",
    "\n",
    "#Here we calculate the power law that the results are compared to\n",
    "gamma = (r + 2.0) / (r - 1.0)\n",
    "powerlaw = 1.0 - gamma\n",
    "powerx = np.linspace(np.log10(6.0), np.log10(v_c20), 1000)\n",
    "#Change the floating point value here to adjust the power law to be close to the results\n",
    "powery = 5.2 + powerlaw*powerx"
   ]
  },
  {
   "cell_type": "markdown",
   "metadata": {},
   "source": [
    "Finally, we plot the results."
   ]
  },
  {
   "cell_type": "code",
   "execution_count": 9,
   "metadata": {
    "scrolled": false
   },
   "outputs": [
    {
     "name": "stderr",
     "output_type": "stream",
     "text": [
      "C:\\Users\\Frans\\anaconda3\\lib\\site-packages\\ipykernel_launcher.py:30: RuntimeWarning: divide by zero encountered in log10\n",
      "C:\\Users\\Frans\\anaconda3\\lib\\site-packages\\ipykernel_launcher.py:31: RuntimeWarning: divide by zero encountered in log10\n"
     ]
    },
    {
     "data": {
      "image/png": "[encoded data removed]",
      "text/plain": [
       "<Figure size 576x576 with 1 Axes>"
      ]
     },
     "metadata": {
      "needs_background": "light"
     },
     "output_type": "display_data"
    }
   ],
   "source": [
    "#Give the size of the plot\n",
    "plt.figure(figsize=[8, 8])\n",
    "\n",
    "#Decide to how many bins you want to divide the results\n",
    "#adding more bins gives more accurate results, but more noise\n",
    "bns = 70\n",
    "\n",
    "#Run all the results you want to plot through the histogram calculation\n",
    "#We plot the logarithm of the velocity to histogram to save the number of particles in each bar\n",
    "n1, bins, patches = plt.hist(data_end1['velocity_log'], bins=bns)\n",
    "\n",
    "#Also save the starting point of all the histograms as we use them as the x-position\n",
    "#The width of each bar is also calculated, but not used in this example\n",
    "bin_s1 = bins[0:bins.size-1]\n",
    "bin_w1 = bins[1:bins.size] - bins[0:bins.size-1]\n",
    "\n",
    "#If you correctly ran the reading cell twice then you can also run the second groups results\n",
    "n2, bins, patches = plt.hist(data_end2['velocity_log'], bins=bns)\n",
    "\n",
    "bin_s2 = bins[0:bins.size-1]\n",
    "bin_w2 = bins[1:bins.size] - bins[0:bins.size-1]\n",
    "\n",
    "\n",
    "\n",
    "\n",
    "# Clear the histogram plot and replace it with a line plot.\n",
    "plt.clf()\n",
    "\n",
    "#Plot the simulation results\n",
    "plt.plot(bin_s1, np.log10(n1), color=\"red\", label=r\"0%\", linewidth=2.0)\n",
    "plt.plot(bin_s2, np.log10(n2), color=\"blue\", label=r\"100%\", linewidth=2.0)\n",
    "\n",
    "#add the vercial lines for the particle starting velocity and cutoff velocity\n",
    "plt.axvline(x=(np.log10(6.0)), color=\"black\", linestyle=\"-.\")\n",
    "plt.axvline(x=(np.log10(v_c20)), color=\"black\", linestyle=\":\", linewidth=2.0)\n",
    "\n",
    "#add the power law\n",
    "plt.plot(powerx, powery, color=\"black\", linestyle=\"dotted\", linewidth=3.0)\n",
    "\n",
    "#give names to the x and y axes \n",
    "plt.xlabel(\"log v\", fontsize=\"xx-large\")\n",
    "plt.ylabel(\"log count\", fontsize=\"xx-large\")\n",
    "\n",
    "#Change the size of the numbers on the axes\n",
    "plt.tick_params(labelsize=\"x-large\")\n",
    "\n",
    "#Title your plot\n",
    "plt.title(r\"$\\theta_{mean}$ = 20.0, A = 0.4, r = 3, t_max = 500.0\", fontsize=\"xx-large\")\n",
    "\n",
    "#Place the legend of the plot. Using \"best\" automatically finds the place where the legend is least intrusive.\n",
    "plt.legend(loc=\"best\", title=\"Ripple chance\", fontsize=\"xx-large\", title_fontsize=\"xx-large\")\n",
    "\n",
    "#Using annotate you can add text to the plot where you want \n",
    "plt.annotate(\"Amount of particles: 100 000\", (0.85,0.85), fontsize=\"xx-large\")\n",
    "#plt.annotate(\"Total simulation time: 500\", (1.0,1.1), fontsize=\"xx-large\")\n",
    "plt.annotate(r\"$v_c$ 20$^{\\circ}$\", (2.45,3.5), fontsize=\"x-large\")\n",
    "plt.annotate(\"Power law\", (1.0,3.75), fontsize=\"x-large\")\n",
    "\n",
    "#Adds a grid. I liked it, but not necessary at all.\n",
    "plt.grid()\n",
    "\n",
    "#Finally give a name to your plot \n",
    "plt.savefig(\"20deg_r3_diffChance.png\")\n",
    "\n",
    "#There might be warnings about dividing by zero, because some of the bars in the histogram were zero"
   ]
  },
  {
   "cell_type": "markdown",
   "metadata": {},
   "source": [
    "## Bonus: Calculating ripple angles\n",
    "\n",
    "As a bonus heres  way to calculate the minimum and maximum angles a rippled shock achieves with different ripple parameters. As the simulation cannot handle angles above 90 degrees you can use this to check what ripples are possible to simulate."
   ]
  },
  {
   "cell_type": "code",
   "execution_count": 10,
   "metadata": {},
   "outputs": [],
   "source": [
    "def calculateCompressionRatios(randomx, randomy, obliquity_mean, ripple_amplitude, ripple_wavelength):\n",
    "    \n",
    "    #Calculate the ripple strength\n",
    "    #a = 2.0 * np.pi * ripple_amplitude / ripple_wavelength\n",
    "    a = ripple_amplitude\n",
    "    \n",
    "    #Calculate the semi-random obliquity of the shock\n",
    "    numerator = np.cos(obliquity_mean) - a * np.sin(obliquity_mean) * np.cos(randomx) * np.sin(randomy)\n",
    "    denominator = np.sqrt( a*a*(np.cos(randomx)**2 * np.sin(randomy)**2 + np.cos(randomy)**2 * np.sin(randomx)**2) + 1.0 )\n",
    "    \n",
    "    obliquity = np.arccos( numerator/denominator )\n",
    "    \n",
    "    return obliquity"
   ]
  },
  {
   "cell_type": "code",
   "execution_count": 11,
   "metadata": {},
   "outputs": [
    {
     "name": "stdout",
     "output_type": "stream",
     "text": [
      "theta_min =  0.08463207145133166\n",
      "theta_max =  88.30299169883064\n"
     ]
    }
   ],
   "source": [
    "#Only change these three values\n",
    "mean_obliquity_in_deg = 20.0\n",
    "test_ripple_amplitude = 0.4\n",
    "test_ripple_wavelength = 1.0\n",
    "\n",
    "\n",
    "Theta = np.deg2rad(mean_obliquity_in_deg)\n",
    "a = test_ripple_amplitude * (2.0*np.pi) / test_ripple_wavelength\n",
    "x0 = np.linspace(0.0, 1.0, 1000)\n",
    "y0 = np.linspace(0.0, 1.0, 1000)\n",
    "\n",
    "xmesh, ymesh = np.meshgrid(x0,y0)\n",
    "x = 2*np.pi*xmesh\n",
    "y = 2*np.pi*ymesh\n",
    "\n",
    "z = a/(2*np.pi) * np.sin(x) * np.sin(y)\n",
    "costheta = calculateCompressionRatios(x, y, Theta, a, test_ripple_wavelength)\n",
    "\n",
    "costheta_min = np.min(costheta)\n",
    "theta_min = np.rad2deg(costheta_min)\n",
    "costheta_max = np.max(costheta)\n",
    "theta_max = np.rad2deg(costheta_max)\n",
    "print('theta_min = ', theta_min)\n",
    "print('theta_max = ', theta_max)"
   ]
  },
  {
   "cell_type": "code",
   "execution_count": null,
   "metadata": {},
   "outputs": [],
   "source": []
  }
 ],
 "metadata": {
  "kernelspec": {
   "display_name": "Python 3",
   "language": "python",
   "name": "python3"
  },
  "language_info": {
   "codemirror_mode": {
    "name": "ipython",
    "version": 3
   },
   "file_extension": ".py",
   "mimetype": "text/x-python",
   "name": "python",
   "nbconvert_exporter": "python",
   "pygments_lexer": "ipython3",
   "version": "3.7.6"
  }
 },
 "nbformat": 4,
 "nbformat_minor": 2
}
